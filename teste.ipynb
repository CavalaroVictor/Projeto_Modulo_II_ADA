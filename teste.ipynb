{
 "cells": [
  {
   "cell_type": "code",
   "execution_count": null,
   "metadata": {},
   "outputs": [],
   "source": [
    "### importando bibliotecas\n",
    "import pandas as pd\n",
    "import warnings as wa\n",
    "import seaborn as sns\n",
    "import matplotlib.pyplot as plt\n",
    " \n",
    "### ignorando warnings do tipo FutureWarning\n",
    "wa.simplefilter( action='ignore', category= FutureWarning)\n",
    "pd.options.mode.chained_assignment = None"
   ]
  },
  {
   "cell_type": "code",
   "execution_count": null,
   "metadata": {},
   "outputs": [],
   "source": [
    "### carrega datasets\n",
    "path_periodo = \"https://github.com/CavalaroVictor/Projeto_Modulo_II_ADA/blob/develop/campeonato-brasileiro-estatisticas-full.csv\"\n",
    "path_jogos = \"https://github.com/CavalaroVictor/Projeto_Modulo_II_ADA/blob/develop/campeonato-brasileiro-full.csv\"\n",
    " \n",
    "df_periodo = pd.read_csv(path_periodo, delimiter=\";\")\n",
    "df_jogos   = pd.read_csv(path_jogos  , delimiter=\";\")"
   ]
  },
  {
   "cell_type": "code",
   "execution_count": null,
   "metadata": {},
   "outputs": [],
   "source": [
    "### padroniza caixa dos nomes das variáveis\n",
    "df_periodo.columns = df_periodo.columns.str.lower()\n",
    "df_jogos.columns   = df_jogos.columns.str.lower()"
   ]
  },
  {
   "cell_type": "code",
   "execution_count": null,
   "metadata": {},
   "outputs": [],
   "source": [
    "### altera campos de datas de character para date\n",
    "df_periodo['inicio' ] = pd.to_datetime(df_periodo['inicio'], format=\"%d/%m/%Y\")\n",
    "df_periodo['fim'    ] = pd.to_datetime(df_periodo['fim'   ], format=\"%d/%m/%Y\")\n",
    "df_jogos['data'     ] = pd.to_datetime(df_jogos['data'    ], format=\"%d/%m/%Y\")"
   ]
  },
  {
   "cell_type": "code",
   "execution_count": null,
   "metadata": {},
   "outputs": [],
   "source": [
    "### captalizar strings\n",
    "df_jogos['dia'      ] = df_jogos['dia'      ].str.title()\n",
    "df_jogos['mandante' ] = df_jogos['mandante' ].str.title()\n",
    "df_jogos['visitante'] = df_jogos['visitante'].str.title()\n",
    "df_jogos['vencedor' ] = df_jogos['vencedor' ].str.title()\n",
    "df_jogos['arena'    ] = df_jogos['arena'    ].apply(lambda x: x.title())"
   ]
  },
  {
   "cell_type": "code",
   "execution_count": null,
   "metadata": {},
   "outputs": [],
   "source": [
    "### junta os datasets e retorna apenas os registros corretos criados na junção\n",
    "df_periodo['key'] = 1\n",
    "df_jogos['key'] = 1\n",
    " \n",
    "df = pd.merge(df_periodo, df_jogos, on ='key').drop(\"key\", 1)\n",
    "df = df.query('data >= inicio & data <= fim')"
   ]
  },
  {
   "cell_type": "code",
   "execution_count": null,
   "metadata": {},
   "outputs": [],
   "source": [
    "df.head(5)"
   ]
  },
  {
   "cell_type": "code",
   "execution_count": null,
   "metadata": {},
   "outputs": [],
   "source": [
    "### gols por edição\n",
    "gols_mandante = df[['torneio', 'mandante placar']].groupby('torneio').agg(lambda x: sum(x)).reset_index()\n",
    "gols_mandante.rename(columns = {\"mandante placar\": \"gols_mandante\"}, inplace=True)\n",
    " \n",
    "gols_visitante = df.groupby('torneio')['visitante placar'].sum().sort_values(ascending=False).reset_index()\n",
    "gols_visitante.rename(columns = {\"visitante placar\": \"gols_visitante\"}, inplace=True)\n",
    " \n",
    "gols_edicao = pd.merge(gols_mandante, gols_visitante, on=\"torneio\")\n",
    "gols_edicao['gols_total' = gols_edicao['gols_mandante'] + gols_edicao['gols_visitante']\n",
    "gols_edicao['gols_mandante_perc'  ] = (gols_edicao['gols_mandante' ]/gols_edicao['gols_total'])*100\n",
    "gols_edicao['gols_visitantes_perc'] = (gols_edicao['gols_visitante']/gols_edicao['gols_total'])*100\n",
    " \n",
    "gols_edicao"
   ]
  },
  {
   "cell_type": "code",
   "execution_count": null,
   "metadata": {},
   "outputs": [],
   "source": [
    "### gols por edição comparativo\n",
    "df1 = gols_edicao[['torneio','gols_mandante' ]]\n",
    "df2 = gols_edicao[['torneio','gols_visitante']]\n",
    "df3 = gols_edicao[['torneio','gols_total'    ]]\n",
    " \n",
    "df1.rename(columns = {'gols_mandante' : 'gols' }, inplace=True)\n",
    "df2.rename(columns = {'gols_visitante': 'gols' }, inplace=True)\n",
    "df3.rename(columns = {'gols_total'    : 'gols' }, inplace=True)\n",
    " \n",
    "df1['tipo_gols'] = 'gols_mandante'\n",
    "df2['tipo_gols'] = 'gols_visitante'\n",
    "df3['tipo_gols'] = 'gols_total'\n",
    " \n",
    "df4 = pd.concat([df1, df2, df3]).reset_index(drop=True)"
   ]
  },
  {
   "cell_type": "code",
   "execution_count": null,
   "metadata": {},
   "outputs": [],
   "source": [
    "### gráfico gols por edição comparativo\n",
    "sns.barplot(x=\"torneio\", y=\"gols\", hue=\"tipo_gols\", data=df4)\n",
    "plt.title('Gols do Brasileirão')\n",
    "plt.show()"
   ]
  },
  {
   "cell_type": "code",
   "execution_count": null,
   "metadata": {},
   "outputs": [],
   "source": [
    "### top 10 clubes gols marcados\n",
    "gols_mandante_time  = df.groupby('mandante' )['mandante placar' ].sum().sort_values(ascending=False).reset_index()\n",
    "gols_mandante_time.rename(columns  = {\"mandante\" : \"time\", 'mandante placar' : 'gols marcados' }, inplace=True)\n",
    " \n",
    "gols_visitante_time = df.groupby('visitante')['visitante placar'].sum().sort_values(ascending=False).reset_index()\n",
    "gols_visitante_time.rename(columns = {\"visitante\": \"time\", 'visitante placar': 'gols marcados' }, inplace=True)\n",
    " \n",
    "gols_time = pd.concat([gols_mandante_time, gols_visitante_time])\n",
    " \n",
    "gols_marcados_time = gols_time.groupby('time')['gols marcados'].sum().sort_values(ascending=False).reset_index()\n",
    "gols_marcados_time.head(10)"
   ]
  },
  {
   "cell_type": "code",
   "execution_count": null,
   "metadata": {},
   "outputs": [],
   "source": [
    "### gráfico top 10 clubes gols marcados\n",
    "sns.barplot(x=\"gols marcados\", y=\"time\", data=gols_marcados_time.head(10))\n",
    "plt.title('Top 10 Times Gols Marcados do Brasileirão')\n",
    "plt.show()"
   ]
  },
  {
   "cell_type": "code",
   "execution_count": null,
   "metadata": {},
   "outputs": [],
   "source": [
    "### top 10 clubes gols sofridos\n",
    "gols_mandante_time  = df.groupby('visitante')['mandante placar' ].sum().sort_values(ascending=False).reset_index()\n",
    "gols_mandante_time.rename(columns  = {\"visitante\": \"time\", 'mandante placar' : 'gols sofridos' }, inplace=True)\n",
    " \n",
    "gols_visitante_time = df.groupby('mandante' )['visitante placar'].sum().sort_values(ascending=False).reset_index()\n",
    "gols_visitante_time.rename(columns = {\"mandante\" : \"time\", 'visitante placar': 'gols sofridos' }, inplace=True)\n",
    " \n",
    "gols_time = pd.concat([gols_mandante_time, gols_visitante_time])\n",
    " \n",
    "gols_sofridos_time = gols_time.groupby('time')['gols sofridos'].sum().sort_values(ascending=False).reset_index()\n",
    "gols_sofridos_time.head(10)"
   ]
  },
  {
   "cell_type": "code",
   "execution_count": null,
   "metadata": {},
   "outputs": [],
   "source": [
    "### gráfico top 10 clubes gols sofridos\n",
    "sns.barplot(x=\"gols sofridos\", y=\"time\", data=gols_sofridos_time.head(10))\n",
    "plt.title('Top 10 Times Gols Sofridos do Brasileirão')\n",
    "plt.show()"
   ]
  },
  {
   "cell_type": "code",
   "execution_count": null,
   "metadata": {},
   "outputs": [],
   "source": [
    "### melhores ataques por edição\n",
    "df['clube']                  = df['mandante']\n",
    "gols_clubes_mandantes        = df.groupby(['torneio','clube'])['mandante placar'].sum().sort_values(ascending=False).reset_index()\n",
    "gols_clubes_mandantes.rename(columns  = {\"mandante placar\" : \"gols_mandante\" }, inplace=True)\n",
    " \n",
    "df['clube']                  = df['visitante']\n",
    "gols_clubes_visitantes       = df.groupby(['torneio','clube'])['visitante placar'].sum().sort_values(ascending=False).reset_index()\n",
    "gols_clubes_visitantes.rename(columns = {\"visitante placar\": \"gols_visitante\"}, inplace=True)\n",
    " \n",
    "gols_clubes               = pd.merge(gols_clubes_mandantes, gols_clubes_visitantes,  on=[\"torneio\",\"clube\"])\n",
    "gols_clubes['gols_total'] = gols_clubes['gols_mandante'] + gols_clubes['gols_visitante']\n",
    " \n",
    "ataque_pior   = gols_clubes.groupby('torneio')['gols_total'].min().sort_values(ascending=False).reset_index()\n",
    "ataque_melhor = gols_clubes.groupby('torneio')['gols_total'].max().sort_values(ascending=False).reset_index()\n",
    " \n",
    "gols_torneio_ataque_melhor = pd.merge(gols_clubes, ataque_melhor, on=['torneio','gols_total'])[['torneio','clube','gols_total']]\n",
    "gols_torneio_ataque_melhor.rename(columns = {\"gols_total\": \"ataque_melhor\"}, inplace=True)\n",
    " \n",
    "gols_torneio_ataque_pior   = pd.merge(gols_clubes, ataque_pior  , on=['torneio','gols_total'])[['torneio','clube','gols_total']]\n",
    "gols_torneio_ataque_pior.rename(columns   = {\"gols_total\": \"ataque_pior\"  }, inplace=True)\n",
    " \n",
    "gols_ataques = pd.merge(gols_torneio_ataque_melhor, gols_torneio_ataque_pior, on=\"torneio\", suffixes=(\"_melhor\",\"_pior\"))\n",
    "gols_ataques.sort_values(['torneio','clube_melhor'])"
   ]
  },
  {
   "cell_type": "code",
   "execution_count": null,
   "metadata": {},
   "outputs": [],
   "source": [
    "# pontuação\n",
    "pontos_participantes               = df.groupby('torneio')['mandante'].nunique().sort_values(ascending=False).reset_index()\n",
    "pontos_participantes['pontos_max'] = (pontos_participantes.mandante - 1)*2*3\n",
    " \n",
    "pontos = df[['torneio', 'mandante', 'visitante', 'mandante placar', 'visitante placar']]\n",
    "pontos['pontos_mandante' ] = pontos.apply(lambda x: 3 if x['mandante placar'] > x['visitante placar'] else (0 if x['mandante placar'] < x['visitante placar'] else 1), axis=1)\n",
    "pontos['pontos_visitante'] = pontos.apply(lambda x: 3 if x['mandante placar'] < x['visitante placar'] else (0 if x['mandante placar'] > x['visitante placar'] else 1), axis=1)\n",
    " \n",
    "pontos_mandantes = pontos.groupby(['torneio','mandante' ])['pontos_mandante' ].sum().sort_values(ascending=False).reset_index()\n",
    "pontos_mandantes.rename(columns = {\"mandante\": \"clube\" }, inplace=True)\n",
    "\n",
    "pontos_visitante = pontos.groupby(['torneio','visitante'])['pontos_visitante'].sum().sort_values(ascending=False).reset_index()\n",
    "pontos_visitante.rename(columns = {\"visitante\": \"clube\"}, inplace=True)\n",
    "\n",
    "pontos_total = pd.merge(pontos_mandantes, pontos_visitante, on=['torneio','clube'])\n",
    "pontos_total['pontos_total'] = pontos_total.pontos_mandante + pontos_total.pontos_visitante"
   ]
  },
  {
   "cell_type": "markdown",
   "metadata": {},
   "source": [
    "#Para definir vitória, derrota ou empate foram utilizado os seguintes critérios:\n",
    "\n",
    "#Se obteve três pontos, considera-se uma vitória;\n",
    "#Caso conquistou um ponto, considera-se um empate;\n",
    "#Se não ganhou pontos, considera-se uma derrota."
   ]
  },
  {
   "cell_type": "code",
   "execution_count": null,
   "metadata": {},
   "outputs": [],
   "source": [
    "### número de vitórias, empates e derrotas das equipes\n",
    "resultado = pontos[['torneio','mandante','visitante','pontos_mandante','pontos_visitante']]\n",
    "resultado['resultado_mandante' ] = pontos.apply(lambda x: 'Vitória' if x['pontos_mandante' ] == 3 else ('Derrota' if x['pontos_mandante' ] == 0 else 'Empate'), axis=1)\n",
    "resultado['resultado_visitante'] = pontos.apply(lambda x: 'Vitória' if x['pontos_visitante'] == 3 else ('Derrota' if x['pontos_visitante'] == 0 else 'Empate'), axis=1)\n",
    " \n",
    "resultado_mandante = resultado.groupby( ['mandante' ,'resultado_mandante' ])['torneio'].count().reset_index()\n",
    "resultado_mandante.rename(columns  = {\"mandante\": \"clube\" , \"resultado_mandante\" :\"resultado\", \"torneio\":\"ocorrencia\"}, inplace=True)\n",
    " \n",
    "resultado_visitante = resultado.groupby(['visitante','resultado_visitante'])['torneio'].count().reset_index()\n",
    "resultado_visitante.rename(columns = {\"visitante\": \"clube\", \"resultado_visitante\":\"resultado\", \"torneio\":\"ocorrencia\"}, inplace=True)\n",
    " \n",
    "resultado = pd.concat([resultado_mandante, resultado_visitante])\n",
    "resultado = resultado.groupby(['clube','resultado'])['ocorrencia'].sum().reset_index()"
   ]
  },
  {
   "cell_type": "code",
   "execution_count": null,
   "metadata": {},
   "outputs": [],
   "source": [
    "### gráfico de vitórias, empates e derrotas das equipes\n",
    "colors = [\"#b2df8a\", \"#5764db\",\"#e14c4c\"]\n",
    "sns.set_palette(sns.color_palette(colors))\n",
    " \n",
    "g = sns.barplot(x=\"clube\", y=\"ocorrencia\", hue=\"resultado\", data=resultado, hue_order=['Vitória','Empate','Derrota'])\n",
    "plt.title('Resultados por Equipe')\n",
    "plt.xticks(rotation=90)\n",
    "plt.tight_layout()"
   ]
  },
  {
   "cell_type": "code",
   "execution_count": null,
   "metadata": {},
   "outputs": [],
   "source": [
    "### percentual de resultados por equipe\n",
    "vit = resultado.query(\"resultado == 'Vitória'\")\n",
    "emp = resultado.query(\"resultado == 'Empate'\" )\n",
    "der = resultado.query(\"resultado == 'Derrota'\")\n",
    " \n",
    "vit.rename(columns = {\"ocorrencia\": \"vitorias\"}, inplace=True)\n",
    "emp.rename(columns = {\"ocorrencia\": \"empates\" }, inplace=True)\n",
    "der.rename(columns = {\"ocorrencia\": \"derrotas\"}, inplace=True)\n",
    " \n",
    "vit = vit[['clube','vitorias']]\n",
    "emp = emp[['clube','empates']]\n",
    "der = der[['clube','derrotas']]\n",
    " \n",
    "rm = pd.merge(vit, emp, on='clube')\n",
    "ca = pd.merge(rm , der, on='clube')\n",
    "ca['total'] = ca['vitorias'] + ca['empates'] + ca['derrotas']\n",
    " \n",
    "ca['perc_vitorias'] = (ca.vitorias / ca.total)*100\n",
    "ca['perc_empates' ] = (ca.empates  / ca.total)*100\n",
    "ca['perc_derrotas'] = (ca.derrotas / ca.total)*100\n",
    " \n",
    "ca.head()"
   ]
  },
  {
   "cell_type": "code",
   "execution_count": null,
   "metadata": {},
   "outputs": [],
   "source": [
    "### gráfico percentual de resultados por equipe\n",
    "percentual = resultado\n",
    "perc_total = percentual.groupby(['clube'])['ocorrencia'].sum().reset_index()\n",
    "percentual = pd.merge(percentual, perc_total, on='clube', suffixes=(\"\",\"_y\") )\n",
    " \n",
    "percentual.rename(columns = {\"ocorrencia_y\": \"perc\"}, inplace=True)\n",
    "percentual['perc'] = (percentual.ocorrencia / percentual.perc)*\n",
    "\n",
    "colors = [\"#b2df8a\", \"#5764db\",\"#e14c4c\"]\n",
    "sns.set_palette(sns.color_palette(colors))\n",
    " \n",
    "g = sns.barplot(x=\"clube\", y=\"perc\", hue=\"resultado\", data=percentual, hue_order=['Vitória','Empate','Derrota'])\n",
    " \n",
    "plt.title('Percentual dos Resultados por Equipe')\n",
    "plt.xticks(rotation=90)\n",
    "plt.tight_layout()"
   ]
  },
  {
   "cell_type": "code",
   "execution_count": null,
   "metadata": {},
   "outputs": [],
   "source": [
    "### campeões\n",
    "campeoes = pontos_total.groupby('torneio')['pontos_total'].max().reset_index()\n",
    "campeoes.rename(columns = {\"pontos_total\": \"maior_ponto\"}, inplace=True)\n",
    "campeoes = pd.merge(campeoes, pontos_total, left_on=['torneio','maior_ponto'], right_on=['torneio','pontos_total'])\n",
    "campeoes = pd.merge(campeoes, pontos_participantes, on='torneio')\n",
    "campeoes['aproveitamento'] = (campeoes.pontos_total / campeoes.pontos_max)*100\n",
    "campeoes['ano'] = campeoes['torneio'].str.extract('(\\d+)').astype(int)\n",
    "campeoes"
   ]
  },
  {
   "cell_type": "code",
   "execution_count": null,
   "metadata": {},
   "outputs": [],
   "source": [
    "### campeões com a maior e menor pontuação\n",
    "campeoes_pontuacao = campeoes[['torneio', 'clube', 'pontos_total', 'aproveitamento']]\n",
    "campeoes_pontuacao['maior_ponto'] = campeoes_pontuacao.pontos_total.max()\n",
    "campeoes_pontuacao['menor_ponto'] = campeoes_pontuacao['pontos_total'].min()\n",
    "campeoes_pontuacao = campeoes_pontuacao.query('pontos_total == maior_ponto or pontos_total == menor_ponto')\n",
    "campeoes_pontuacao['observacao'] = campeoes_pontuacao.apply(lambda x: 'Campeão com a maior pontuação' if x['pontos_total'] == x['maior_ponto'] else 'Campeão com a menor pontuação', axis=1)\n",
    "campeoes_pontuacao = campeoes_pontuacao[['torneio', 'clube', 'pontos_total', 'observacao']]\n",
    "campeoes_pontuacao"
   ]
  },
  {
   "cell_type": "code",
   "execution_count": null,
   "metadata": {},
   "outputs": [],
   "source": [
    "### campeões com o maior e menor aproveitamento\n",
    "campeoes_aproveitamento = campeoes[['torneio', 'clube', 'pontos_total', 'aproveitamento']]\n",
    "campeoes_aproveitamento['maior_aproveitamento'] = campeoes_aproveitamento.aproveitamento.max()\n",
    "campeoes_aproveitamento['menor_aproveitamento'] = campeoes_aproveitamento['aproveitamento'].min()\n",
    "campeoes_aproveitamento = campeoes_aproveitamento.query('aproveitamento == maior_aproveitamento or aproveitamento == menor_aproveitamento')\n",
    "campeoes_aproveitamento['observacao'] = campeoes_aproveitamento.apply(lambda x: 'Campeão com o maior aproveitamento' if x['aproveitamento'] == x['maior_aproveitamento'] else 'Campeão com o menor aproveitamento', axis=1)\n",
    "campeoes_aproveitamento = campeoes_aproveitamento[['torneio', 'clube', 'aproveitamento', 'observacao']]\n",
    "campeoes_aproveitamento"
   ]
  },
  {
   "cell_type": "code",
   "execution_count": null,
   "metadata": {},
   "outputs": [],
   "source": [
    "### gráfico de campeões por aproveitamento\n",
    "campeoes['aprov'] = campeoes.aproveitamento.astype(int)\n",
    " \n",
    "g = sns.catplot(x='ano',y='aprov', data=campeoes, hue='clube', dodge=False, kind='bar', height=7, aspect=2)\n",
    "g.set_axis_labels('Ano','Aproveitamento')\n",
    "g.fig.suptitle('Aproveitamento dos campeões do brasileirão de pontos corridos', ha='center', fontsize=18)\n",
    " \n",
    "for index, row in campeoes.iterrows():\n",
    "   g.ax.text(row.name, row.aprov, row.aprov, color='black', ha=\"center\")"
   ]
  }
 ],
 "metadata": {
  "interpreter": {
   "hash": "da5823d768b19276d454c9497420689debd3f08e0c0dc7e0ee1d90e7852f9bdc"
  },
  "kernelspec": {
   "display_name": "Python 3.10.10 64-bit (windows store)",
   "language": "python",
   "name": "python3"
  },
  "language_info": {
   "name": "python",
   "version": "3.10.10"
  },
  "orig_nbformat": 4
 },
 "nbformat": 4,
 "nbformat_minor": 2
}
